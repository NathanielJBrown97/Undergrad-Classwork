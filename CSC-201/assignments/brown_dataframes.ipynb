{
 "cells": [
  {
   "cell_type": "code",
   "execution_count": 37,
   "id": "1c989015",
   "metadata": {
    "scrolled": true
   },
   "outputs": [
    {
     "name": "stdout",
     "output_type": "stream",
     "text": [
      "    Age  Familiarity Level  Demonstrate Knowledge Worry  \\\n",
      "1    19                  2                   True    No   \n",
      "7    18                  1                  False    No   \n",
      "11   20                  2                  False    No   \n",
      "13   21                  2                  False    No   \n",
      "16   21                  1                  False    No   \n",
      "17   18                  2                   True   Yes   \n",
      "18   19                  2                   True    No   \n",
      "\n",
      "   Opinion: Most Infected Opinion: Belief of Spread  Personal Experience  \n",
      "1                   China                    Monkey                False  \n",
      "7                   China              Skin to Skin                False  \n",
      "11                  China                    Monkey                 True  \n",
      "13                  China                    Monkey                False  \n",
      "16                  China                    Monkey                False  \n",
      "17                  China               Lack of PPE                False  \n",
      "18                  China              Skin to Skin                 True  \n",
      "The median age of those that believe China is the most infected with Monkeypox is:  19.0\n"
     ]
    }
   ],
   "source": [
    "#Nathaniel Brown\n",
    "#November 17, 2022\n",
    "#CSC 201 Fall 22'\n",
    "#Assignment 11: Programming with Pandas DataFrame\n",
    "#Title: Pandas Dataframe\n",
    "###\n",
    "#Description: This assignment's goal is to use our csv file from the previous week; read and translate the\n",
    "#csv file into a data frame. Where we will filter the information out, create a subset and from there\n",
    "# we will run some computations and output our new subset dataframe and statistics.\n",
    "###\n",
    "#Solution: The best way to handle this assignment is by first creating a function to read the csv file.\n",
    "# and translate it into a whole dataframe. From there the whole dataframe can be passed to a fucntion\n",
    "#that will filter the data to select a specific subset of data. That can then be passed to a computation function\n",
    "# which will allow us to run specific calculations such as a median calculation. which can finally be passed to a \n",
    "# output function which will print both our subset and statistics on said subset. (Of course, all bundled in a main function).\n",
    "###\n",
    "##### IMPORTS and Outer Variables#####\n",
    "import pandas as pd                 # imports pandas for high performance containers with data structures\n",
    "import csv\n",
    "##############################\n",
    "##### READ AS DATAFRAME #####\n",
    "# this function sets up the program and manages calls to functions defined for specified processing, \n",
    "# calculations and output\n",
    "# Arguments - 1 \n",
    "# Returns - 1\n",
    "def read_as_dataframe(masterfile):    #defines function to read csv file and make dataframe for use throughout the assignment. Pushes masterfile for csv reading.\n",
    "    og = pd.read_csv(masterfile)      #this is the original panda dataframe variable; however, due to some issues with integers being read as strings...\n",
    "    df = og.astype({\"Age\":\"int\"})     #this dataframe variable is used throughout the assignment. And converts Age to an integer for usage in the compute function.\n",
    "    return df                         #returns df variable, for usage later in the main()\n",
    "\n",
    "##############################\n",
    "##### GET SUBSET #####\n",
    "# This function creates a filtered subset of the Pandas Dataframe\n",
    "# Arguments - 1 Pandas DataFrame containing data from csv file\n",
    "# return - 1 subset of hte pandas dataframe\n",
    "def get_subset(whole):               #this function is used to get a subset of the data using the passed dataframe defined \"whole\" in the main function\n",
    "    country_filter = whole['Opinion: Most Infected'] == \"China\"    #Creates a filter based on the Opinion column on which country people thought had the most cases of monkeypox. \n",
    "    china_sub = whole[country_filter]           #Takes the established filter and assigns it a variable name\n",
    "    \n",
    "    return china_sub                            #returns said variable for future use in the main function.\n",
    "##############################\n",
    "##### COMPUTE #####\n",
    "# This function computes ONE data statistic on the filtered subset of the Pandas DataFrame\n",
    "# Arguments - 1 Filtered subset of the Pandas Dataframe and 1 string representing the column name\n",
    "# in the DataFrame you want to compute the data statistic on\n",
    "# Return - 1 Computed data statistic on the given column name in the filtered subset of the pandas dataframe\n",
    "def compute(china_subset):                      #defines a computation function using the passed variable china_subset, which was defiend in the get_subset and main functions.\n",
    "    median = china_subset['Age'].median()       #runs a median calculation on the Age responess of responses that met china_subset critera.\n",
    "    return median                               #returns median variable for future use in the main()\n",
    "##############################\n",
    "##### OUTPUT STATS #####\n",
    "# This function outputs the filtered subset and the calculated data statistic on the subset.\n",
    "# ARguments - 1 Filtered subset of the dataframe and the calculated data statistic on the subset\n",
    "# Returns - None\n",
    "def output_stats(china_subset , median_stats):  #defines a function to output both the computation and subset dataframes using their respective variables defiend in the main()\n",
    "    print(china_subset)   #prints the subset dataframe containing just those who responded with 'China' for their opinion origination responess.\n",
    "    print(\"The median age of those that believe China is the most infected with Monkeypox is: \" , median_stats) #a print statement that tells the user the median age of afforementioned participants.\n",
    "##############################\n",
    "##### MAIN FUNCTION #####\n",
    "# This function setups the program and manages call functions defined for specified processing,\n",
    "# calculations, visualizations and output.\n",
    "def main():            #defines main function used to execute the entire program.\n",
    "    masterfile = \"dataframes.csv\"      #variable name of csv file used throughout.\n",
    "    whole = read_as_dataframe(masterfile) #dataframe variable name, equating to the read_as() with passed parameter of the csv file variable.\n",
    "    china_subset = get_subset(whole)    #china exlcusive subset variable name, equating to the get_subset function with the passed afforementioned 'whole' dataframe.\n",
    "    median_stats = compute(china_subset) #median computation variable name, equating to the compute function with the china subset used as a passed parameter.\n",
    "    output_stats(china_subset , median_stats) #essentially hte print function; printing both the filtered subset and the median statistics created in the previous chain of functoins. (uses both the median and subset variables as parameteres.)\n",
    "main()      # as mentioned above runs the main function, essentially starting the program.\n",
    "    "
   ]
  },
  {
   "cell_type": "code",
   "execution_count": null,
   "id": "cfa65b9a",
   "metadata": {},
   "outputs": [],
   "source": []
  }
 ],
 "metadata": {
  "kernelspec": {
   "display_name": "Python 3 (ipykernel)",
   "language": "python",
   "name": "python3"
  },
  "language_info": {
   "codemirror_mode": {
    "name": "ipython",
    "version": 3
   },
   "file_extension": ".py",
   "mimetype": "text/x-python",
   "name": "python",
   "nbconvert_exporter": "python",
   "pygments_lexer": "ipython3",
   "version": "3.9.12"
  }
 },
 "nbformat": 4,
 "nbformat_minor": 5
}
