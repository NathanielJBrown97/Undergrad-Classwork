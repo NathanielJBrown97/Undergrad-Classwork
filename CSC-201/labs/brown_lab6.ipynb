{
 "cells": [
  {
   "cell_type": "code",
   "execution_count": 5,
   "id": "520a2b2f",
   "metadata": {},
   "outputs": [
    {
     "name": "stdout",
     "output_type": "stream",
     "text": [
      "Hello, I am a while and count is 0\n",
      "Hello, I am a while and count is 1\n",
      "Hello, I am a while and count is 2\n",
      "Hello, I am a while and count is 3\n",
      "Hello, I am a while and count is 4\n",
      "Hello, I am a while and count is 5\n",
      "Hello, I am a while and count is 6\n",
      "Hello, I am a while and count is 7\n",
      "Hello, I am a while and count is 8\n",
      "Hello, I am a while and count is 9\n"
     ]
    }
   ],
   "source": [
    "count = 0\n",
    "while count < 10:\n",
    "    print(\"Hello, I am a while and count is\", count)\n",
    "    count = count + 1"
   ]
  },
  {
   "cell_type": "code",
   "execution_count": 10,
   "id": "b7a794c5",
   "metadata": {
    "scrolled": true
   },
   "outputs": [
    {
     "name": "stdout",
     "output_type": "stream",
     "text": [
      "1\n",
      "4\n",
      "9\n",
      "16\n",
      "25\n",
      "36\n",
      "49\n",
      "64\n",
      "81\n",
      "100\n"
     ]
    }
   ],
   "source": [
    "count = 1\n",
    "while count < 11:\n",
    "    square = count * count\n",
    "    print(square)\n",
    "    count = count + 1"
   ]
  },
  {
   "cell_type": "code",
   "execution_count": 38,
   "id": "c728b501",
   "metadata": {
    "scrolled": false
   },
   "outputs": [
    {
     "name": "stdout",
     "output_type": "stream",
     "text": [
      "Would you like to roll the dice? (y/n) y\n",
      "You rolled... 2\n",
      "Computer rolled... 5\n",
      "You rolled lower, you lose.\n",
      "Would you like to roll the dice? (y/n) y\n",
      "You rolled... 3\n",
      "Computer rolled... 2\n",
      "You rolled higher, you win.\n",
      "Would you like to roll the dice? (y/n) n\n",
      "The game will not run.\n"
     ]
    }
   ],
   "source": [
    "import random\n",
    "choice = ''\n",
    "while choice != 'n':\n",
    "    choice = input(\"Would you like to roll the dice? (y/n) \")\n",
    "    if choice == 'y':\n",
    "        user_dice = random.randint(1,6)    \n",
    "        computer_dice = random.randint(1,6)\n",
    "        print(\"You rolled...\" , user_dice)\n",
    "        print(\"Computer rolled...\", computer_dice)\n",
    "\n",
    "        if user_dice > computer_dice:\n",
    "            print(\"You rolled higher, you win.\")\n",
    "        elif user_dice < computer_dice:\n",
    "            print(\"You rolled lower, you lose.\")\n",
    "        else:\n",
    "            print(\"You rolled the same, draw.\")\n",
    "    elif choice == 'n':\n",
    "        print (\"The game will not run.\")\n",
    "\n",
    "\n",
    "    "
   ]
  },
  {
   "cell_type": "code",
   "execution_count": 44,
   "id": "f9b3befb",
   "metadata": {},
   "outputs": [
    {
     "name": "stdout",
     "output_type": "stream",
     "text": [
      "Hello, I am a while and count is 0\n",
      "Hello, I am a while and count is 1\n",
      "Hello, I am a while and count is 2\n",
      "Hello, I am a while and count is 3\n",
      "Hello, I am a while and count is 4\n",
      "Hello, I am a while and count is 5\n",
      "Hello, I am a while and count is 6\n",
      "Hello, I am a while and count is 7\n",
      "Hello, I am a while and count is 8\n"
     ]
    }
   ],
   "source": [
    "count = 2\n",
    "for count in range(9):\n",
    "    print(\"Hello, I am a while and count is\", count)\n",
    "    count = count + 1\n"
   ]
  },
  {
   "cell_type": "code",
   "execution_count": 42,
   "id": "9273f029",
   "metadata": {},
   "outputs": [
    {
     "name": "stdout",
     "output_type": "stream",
     "text": [
      "Hello, I am a while and count is 0\n",
      "Hello, I am a while and count is 1\n",
      "Hello, I am a while and count is 2\n",
      "Hello, I am a while and count is 3\n",
      "Hello, I am a while and count is 4\n",
      "Hello, I am a while and count is 5\n",
      "Hello, I am a while and count is 6\n",
      "Hello, I am a while and count is 7\n",
      "Hello, I am a while and count is 8\n"
     ]
    }
   ],
   "source": [
    "for count in range(9):\n",
    "    print(\"Hello, I am a while and count is\", count)\n",
    "    count = count + 1\n"
   ]
  },
  {
   "cell_type": "code",
   "execution_count": 45,
   "id": "d946102c",
   "metadata": {},
   "outputs": [
    {
     "name": "stdout",
     "output_type": "stream",
     "text": [
      "Hello, I am a while and count is 0\n",
      "Hello, I am a while and count is 1\n",
      "Hello, I am a while and count is 2\n",
      "Hello, I am a while and count is 3\n",
      "Hello, I am a while and count is 4\n",
      "Hello, I am a while and count is 5\n",
      "Hello, I am a while and count is 6\n",
      "Hello, I am a while and count is 7\n",
      "Hello, I am a while and count is 8\n"
     ]
    }
   ],
   "source": [
    "for count in range(9):\n",
    "    print(\"Hello, I am a while and count is\", count)\n"
   ]
  },
  {
   "cell_type": "code",
   "execution_count": 46,
   "id": "85610ec1",
   "metadata": {},
   "outputs": [
    {
     "name": "stdout",
     "output_type": "stream",
     "text": [
      "0 squared is,  0\n",
      "1 squared is,  1\n",
      "2 squared is,  4\n",
      "3 squared is,  9\n",
      "4 squared is,  16\n",
      "5 squared is,  25\n",
      "6 squared is,  36\n",
      "7 squared is,  49\n",
      "8 squared is,  64\n",
      "9 squared is,  81\n",
      "10 squared is,  100\n"
     ]
    }
   ],
   "source": [
    "for count in range(11):\n",
    "    square = count*count\n",
    "    print(count , \"squared is, \" , square)"
   ]
  },
  {
   "cell_type": "code",
   "execution_count": 48,
   "id": "3cbcfc67",
   "metadata": {},
   "outputs": [
    {
     "name": "stdout",
     "output_type": "stream",
     "text": [
      "The Filtered Phrase:   bird in the hnd\n"
     ]
    }
   ],
   "source": [
    "phrase = \"A bird in the hand\"\n",
    "filter = ''.join(filter(lambda x: x not in ['a', 'A'] , phrase))\n",
    "print(\"The Filtered Phrase: \" ,filter)"
   ]
  },
  {
   "cell_type": "code",
   "execution_count": 55,
   "id": "0725ef9c",
   "metadata": {},
   "outputs": [
    {
     "ename": "TypeError",
     "evalue": "list indices must be integers or slices, not str",
     "output_type": "error",
     "traceback": [
      "\u001b[1;31m---------------------------------------------------------------------------\u001b[0m",
      "\u001b[1;31mTypeError\u001b[0m                                 Traceback (most recent call last)",
      "Input \u001b[1;32mIn [55]\u001b[0m, in \u001b[0;36m<cell line: 5>\u001b[1;34m()\u001b[0m\n\u001b[0;32m      3\u001b[0m thankyouA \u001b[38;5;241m=\u001b[39m [\u001b[38;5;124m\"\u001b[39m\u001b[38;5;124m\"\u001b[39m]\n\u001b[0;32m      5\u001b[0m \u001b[38;5;28;01mfor\u001b[39;00m i \u001b[38;5;129;01min\u001b[39;00m phrase:\n\u001b[1;32m----> 6\u001b[0m     phrase \u001b[38;5;241m=\u001b[39m phrase\u001b[38;5;241m.\u001b[39mreplace(phrase, \u001b[43mGOAWAYA\u001b[49m\u001b[43m[\u001b[49m\u001b[43mi\u001b[49m\u001b[43m]\u001b[49m, thankyouA[i])\n\u001b[0;32m      7\u001b[0m \u001b[38;5;28mprint\u001b[39m(phrase)\n",
      "\u001b[1;31mTypeError\u001b[0m: list indices must be integers or slices, not str"
     ]
    }
   ],
   "source": [
    "phrase = \"A bird in the hand...\"\n",
    "GOAWAYA = [\"a\", \"A\"]\n",
    "thankyouA = [\"\"]\n",
    "\n",
    "for i in phrase:\n",
    "    phrase = phrase.replace(phrase, GOAWAYA[i], thankyouA[i])\n",
    "print(phrase)\n"
   ]
  },
  {
   "cell_type": "code",
   "execution_count": 70,
   "id": "245b4036",
   "metadata": {
    "scrolled": true
   },
   "outputs": [
    {
     "name": "stdout",
     "output_type": "stream",
     "text": [
      "\n",
      " \n",
      "b\n",
      "i\n",
      "r\n",
      "d\n",
      " \n",
      "i\n",
      "n\n",
      " \n",
      "t\n",
      "h\n",
      "e\n",
      " \n",
      "h\n",
      "\n",
      "n\n",
      "d\n",
      ".\n",
      ".\n",
      ".\n"
     ]
    }
   ],
   "source": [
    "phrase = \"A bird in the hand...\"\n",
    "for char in phrase:\n",
    "    if char == \"a\" or char == \"A\":\n",
    "        print(\"\")\n",
    "    else:\n",
    "        print(char)\n"
   ]
  },
  {
   "cell_type": "code",
   "execution_count": 65,
   "id": "e7b26adc",
   "metadata": {},
   "outputs": [
    {
     "ename": "NameError",
     "evalue": "name 'value' is not defined",
     "output_type": "error",
     "traceback": [
      "\u001b[1;31m---------------------------------------------------------------------------\u001b[0m",
      "\u001b[1;31mNameError\u001b[0m                                 Traceback (most recent call last)",
      "Input \u001b[1;32mIn [65]\u001b[0m, in \u001b[0;36m<cell line: 3>\u001b[1;34m()\u001b[0m\n\u001b[0;32m      2\u001b[0m phrase \u001b[38;5;241m=\u001b[39m \u001b[38;5;124m\"\u001b[39m\u001b[38;5;124mA bird in the hand\u001b[39m\u001b[38;5;124m\"\u001b[39m\n\u001b[0;32m      3\u001b[0m \u001b[38;5;28;01mwhile\u001b[39;00m \u001b[38;5;28mlen\u001b[39m(phrase) \u001b[38;5;241m>\u001b[39m \u001b[38;5;241m1\u001b[39m:\n\u001b[1;32m----> 4\u001b[0m     remove \u001b[38;5;241m=\u001b[39m (start \u001b[38;5;241m+\u001b[39m \u001b[43mvalue\u001b[49m \u001b[38;5;241m-\u001b[39m \u001b[38;5;241m1\u001b[39m) \u001b[38;5;241m%\u001b[39m \u001b[38;5;28mlen\u001b[39m(phrase)\n\u001b[0;32m      5\u001b[0m     start \u001b[38;5;241m=\u001b[39m remove\n\u001b[0;32m      6\u001b[0m     phrase \u001b[38;5;241m=\u001b[39m phrase[:remove] \u001b[38;5;241m+\u001b[39m phrase [remove\u001b[38;5;241m+\u001b[39m\u001b[38;5;241m1\u001b[39m:]\n",
      "\u001b[1;31mNameError\u001b[0m: name 'value' is not defined"
     ]
    }
   ],
   "source": [
    "start = 0\n",
    "phrase = \"A bird in the hand\"\n",
    "while len(phrase) > 1:\n",
    "    remove = (start + value - 1) % len(phrase)\n",
    "    start = remove\n",
    "    phrase = phrase[:remove] + phrase [remove+1:]\n",
    "return phrase"
   ]
  },
  {
   "cell_type": "code",
   "execution_count": null,
   "id": "cad93934",
   "metadata": {},
   "outputs": [],
   "source": []
  }
 ],
 "metadata": {
  "kernelspec": {
   "display_name": "Python 3 (ipykernel)",
   "language": "python",
   "name": "python3"
  },
  "language_info": {
   "codemirror_mode": {
    "name": "ipython",
    "version": 3
   },
   "file_extension": ".py",
   "mimetype": "text/x-python",
   "name": "python",
   "nbconvert_exporter": "python",
   "pygments_lexer": "ipython3",
   "version": "3.9.12"
  }
 },
 "nbformat": 4,
 "nbformat_minor": 5
}
