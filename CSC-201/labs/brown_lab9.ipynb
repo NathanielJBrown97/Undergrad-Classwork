{
 "cells": [
  {
   "cell_type": "code",
   "execution_count": 6,
   "id": "9c300e12",
   "metadata": {},
   "outputs": [
    {
     "name": "stdout",
     "output_type": "stream",
     "text": [
      "9\n",
      "8\n"
     ]
    }
   ],
   "source": [
    "weights = [125, 135, 145, 155, 170, 185, 205, 265 , 300]\n",
    "heights = [ 4.10 , 5.0 , 5.2 , 5.6 , 5.8 , 5.10 , 6.0 , 6.2]\n",
    "weights[5] = 200\n",
    "heights[4] = 5.5\n",
    "\n",
    "print(len(weights))\n",
    "print(len(heights))\n",
    "\n"
   ]
  },
  {
   "cell_type": "code",
   "execution_count": 5,
   "id": "1d9b0b06",
   "metadata": {},
   "outputs": [
    {
     "name": "stdout",
     "output_type": "stream",
     "text": [
      "4.1\n",
      "6.0\n",
      "5.5\n"
     ]
    }
   ],
   "source": [
    "\n",
    "print(heights[0])\n",
    "print(heights[6])\n",
    "heights[4] = 5.5\n",
    "print(heights[4])"
   ]
  },
  {
   "cell_type": "code",
   "execution_count": 49,
   "id": "c305ca76",
   "metadata": {},
   "outputs": [
    {
     "name": "stdout",
     "output_type": "stream",
     "text": [
      "[145, 155, 170]\n"
     ]
    }
   ],
   "source": [
    "weights = [125, 135, 145, 155, 170, 185, 205, 265 , 300]\n",
    "heights = [ 4.10 , 5.0 , 5.2 , 5.6 , 5.8 , 5.10 , 6.0 , 6.2]\n",
    "weights[5] = 200\n",
    "heights[4] = 5.5\n",
    "\n",
    "w35 = weights[2:5]\n",
    "print(w35)\n",
    "\n"
   ]
  },
  {
   "cell_type": "code",
   "execution_count": 15,
   "id": "0785a2a7",
   "metadata": {},
   "outputs": [
    {
     "name": "stdout",
     "output_type": "stream",
     "text": [
      "2\n",
      "18\n",
      "6\n",
      "16\n",
      "10\n",
      "14\n"
     ]
    }
   ],
   "source": [
    "my_list = [1,9,3,8,5,7]\n",
    "for number in my_list:\n",
    "  print(2*number)\n"
   ]
  },
  {
   "cell_type": "code",
   "execution_count": 50,
   "id": "becefdb9",
   "metadata": {},
   "outputs": [
    {
     "name": "stdout",
     "output_type": "stream",
     "text": [
      "Patient's Weight is:  125 \n",
      "Patient's Height is:  4.1  \n",
      "Patient's BMI is:  7.436049970255801\n",
      "Patient's Weight is:  135 \n",
      "Patient's Height is:  5.0  \n",
      "Patient's BMI is:  5.4\n",
      "Patient's Weight is:  145 \n",
      "Patient's Height is:  5.2  \n",
      "Patient's BMI is:  5.362426035502958\n",
      "Patient's Weight is:  155 \n",
      "Patient's Height is:  5.6  \n",
      "Patient's BMI is:  4.942602040816327\n",
      "Patient's Weight is:  170 \n",
      "Patient's Height is:  5.8  \n",
      "Patient's BMI is:  5.053507728894173\n",
      "Patient's Weight is:  205 \n",
      "Patient's Height is:  5.1  \n",
      "Patient's BMI is:  7.88158400615148\n",
      "Patient's Weight is:  265 \n",
      "Patient's Height is:  6.0  \n",
      "Patient's BMI is:  7.361111111111111\n"
     ]
    }
   ],
   "source": [
    "weights = [125, 135, 145, 155, 170, 205, 265 ]\n",
    "heights = [ 4.10 , 5.0 , 5.2 , 5.6 , 5.8 , 5.10 , 6.0]\n",
    "\n",
    "for i in range(0, len(weights)):\n",
    "    bmi = weights[i] / (heights[i] ** 2)\n",
    "    print(\"Patient's Weight is: \" , weights[i] , \"\\nPatient's Height is: \" , heights[i] , \" \\nPatient's BMI is: \" ,bmi)\n"
   ]
  },
  {
   "cell_type": "code",
   "execution_count": 18,
   "id": "23a4f4d4",
   "metadata": {},
   "outputs": [
    {
     "name": "stdout",
     "output_type": "stream",
     "text": [
      "125\n",
      "135\n",
      "145\n",
      "155\n",
      "170\n",
      "200\n",
      "205\n",
      "265\n",
      "300\n"
     ]
    }
   ],
   "source": [
    "\n",
    "\n",
    "for i in weights and heights:\n",
    "    print(\"Patient's Weight is: \" , [i])"
   ]
  },
  {
   "cell_type": "code",
   "execution_count": 19,
   "id": "2fa8688a",
   "metadata": {},
   "outputs": [
    {
     "ename": "IndexError",
     "evalue": "list index out of range",
     "output_type": "error",
     "traceback": [
      "\u001b[1;31m---------------------------------------------------------------------------\u001b[0m",
      "\u001b[1;31mIndexError\u001b[0m                                Traceback (most recent call last)",
      "Input \u001b[1;32mIn [19]\u001b[0m, in \u001b[0;36m<cell line: 6>\u001b[1;34m()\u001b[0m\n\u001b[0;32m      4\u001b[0m heights[\u001b[38;5;241m4\u001b[39m] \u001b[38;5;241m=\u001b[39m \u001b[38;5;241m5.5\u001b[39m\n\u001b[0;32m      6\u001b[0m \u001b[38;5;28;01mfor\u001b[39;00m i \u001b[38;5;129;01min\u001b[39;00m weights:\n\u001b[1;32m----> 7\u001b[0m     \u001b[38;5;28mprint\u001b[39m(\u001b[43mweights\u001b[49m\u001b[43m[\u001b[49m\u001b[43mi\u001b[49m\u001b[43m]\u001b[49m)\n",
      "\u001b[1;31mIndexError\u001b[0m: list index out of range"
     ]
    }
   ],
   "source": [
    "weights = [125, 135, 145, 155, 170, 185, 205, 265 , 300]\n",
    "heights = [ 4.10 , 5.0 , 5.2 , 5.6 , 5.8 , 5.10 , 6.0 , 6.2]\n",
    "weights[5] = 200\n",
    "heights[4] = 5.5\n",
    "\n",
    "for i in weights:\n",
    "    print(weights[i])"
   ]
  },
  {
   "cell_type": "code",
   "execution_count": null,
   "id": "40a24754",
   "metadata": {},
   "outputs": [],
   "source": []
  }
 ],
 "metadata": {
  "kernelspec": {
   "display_name": "Python 3 (ipykernel)",
   "language": "python",
   "name": "python3"
  },
  "language_info": {
   "codemirror_mode": {
    "name": "ipython",
    "version": 3
   },
   "file_extension": ".py",
   "mimetype": "text/x-python",
   "name": "python",
   "nbconvert_exporter": "python",
   "pygments_lexer": "ipython3",
   "version": "3.9.12"
  }
 },
 "nbformat": 4,
 "nbformat_minor": 5
}
